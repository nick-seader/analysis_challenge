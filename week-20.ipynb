{
 "cells": [
  {
   "attachments": {},
   "cell_type": "markdown",
   "metadata": {},
   "source": [
    "# Week 20 Data Analysis Challenge\n",
    "\n",
    "Download the dataset here: https://buff.ly/3O7sB6r \n",
    "\n",
    "Challenge Questions:\n",
    "\n",
    "1.    Check out the type of the columns\n",
    "2.    Transform the Date column as a datetime type\n",
    "3.    Set the date as the index\n",
    "4.    Is there any duplicate dates?\n",
    "5.    Sort the index so the first entry is the oldest date\n",
    "6.    Get the last business day of each month\n",
    "7.    What is the difference in days between the first day and the oldest\n",
    "8.    How many months in the data we have?\n",
    "9.    Plot the 'Adj Close' value\n",
    "10.    Create your own question and answer it."
   ]
  },
  {
   "cell_type": "code",
   "execution_count": null,
   "metadata": {},
   "outputs": [],
   "source": []
  }
 ],
 "metadata": {
  "language_info": {
   "name": "python"
  },
  "orig_nbformat": 4
 },
 "nbformat": 4,
 "nbformat_minor": 2
}
