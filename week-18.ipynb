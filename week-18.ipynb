{
 "cells": [
  {
   "attachments": {},
   "cell_type": "markdown",
   "metadata": {},
   "source": [
    "# Data Analysis Challenge - Week 18\n",
    "\n",
    "Challenge Questions:\n",
    "\n",
    "1.    Delete the Unnamed 0 column\n",
    "2.    Plot the total_bill column histogram\n",
    "3.    Create a scatter plot presenting the relationship between total_bill and tip\n",
    "4.    Create one image with the relationship of total_bill, tip and size.\n",
    "5.    Present the relationship between days and total_bill value\n",
    "6.    Create a scatter plot with the day as the y-axis and tip as the x-axis, differ the dots by sex\n",
    "7.    Create a box plot presenting the total_bill per day differentiation the time (Dinner or Lunch)\n",
    "8.    Create two histograms of the tip value based for Dinner and Lunch. They must be side by side.\n",
    "9.    Create two scatterplots graphs, one for Male and another for Female, presenting the total_bill value and tip relationship, differing by smoker or no smoker"
   ]
  },
  {
   "cell_type": "code",
   "execution_count": null,
   "metadata": {},
   "outputs": [],
   "source": []
  }
 ],
 "metadata": {
  "language_info": {
   "name": "python"
  },
  "orig_nbformat": 4
 },
 "nbformat": 4,
 "nbformat_minor": 2
}
