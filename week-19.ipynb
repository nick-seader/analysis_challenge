{
 "cells": [
  {
   "attachments": {},
   "cell_type": "markdown",
   "metadata": {},
   "source": [
    "# Week 19 Data Analysis Challege\n",
    "\n",
    "https://raw.githubusercontent.com/kedeisha1/Challenges/main/coaster_db.csv\n",
    "\n",
    "1.    How many columns and rows are in the dataset?\n",
    "2.    Is there any missing data?\n",
    "3.    Display the summary statistics of the numeric columns using the describe method.\n",
    "4.    Rename the following columns:\n",
    "       -  coaster_name  ➡️  Coaster_Name\n",
    "       - year_introduced ➡️ Year_Introduced\n",
    "       - opening_date_clean ➡️ Opening_Date\n",
    "       - speed_mph ➡️ Speed_mph\n",
    "       - height_ft ➡️ Height_ft\n",
    "       - Inversions_clean ➡️ Inversions\n",
    "       - Gforce_clean ➡️ Gforce\n",
    "5.    Are there any duplicated rows?\n",
    "6.    What are the top 3 years with the most roller coasters introduced?\n",
    "7.    What is the average speed? Also display a plot to show it's distribution.\n",
    "8.    Explore the feature relationships. Are there any positively or negatively correlated relationships?\n",
    "9.    Create your own question and answer it."
   ]
  },
  {
   "cell_type": "code",
   "execution_count": 28,
   "metadata": {},
   "outputs": [
    {
     "name": "stdout",
     "output_type": "stream",
     "text": [
      "Numpy version 1.23.5\n",
      "Pandas version 2.0.1\n"
     ]
    }
   ],
   "source": [
    "# Standard library imports\n",
    "import numpy as np\n",
    "import pandas as pd\n",
    "import matplotlib.pyplot as plt\n",
    "import seaborn as sns\n",
    "\n",
    "print(f'Numpy version {np.__version__}')\n",
    "print(f'Pandas version {pd.__version__}')"
   ]
  },
  {
   "cell_type": "code",
   "execution_count": 2,
   "metadata": {},
   "outputs": [],
   "source": [
    "# import the data\n",
    "df = pd.read_csv(\"https://raw.githubusercontent.com/kedeisha1/Challenges/main/coaster_db.csv\")"
   ]
  },
  {
   "attachments": {},
   "cell_type": "markdown",
   "metadata": {},
   "source": [
    "**1.    How many columns and rows are in the dataset?**"
   ]
  },
  {
   "cell_type": "code",
   "execution_count": 3,
   "metadata": {},
   "outputs": [
    {
     "name": "stdout",
     "output_type": "stream",
     "text": [
      "(1087, 56)\n",
      "There are 56 columns and 1087 rows in the dataframe.\n"
     ]
    }
   ],
   "source": [
    "print(df.shape)\n",
    "print(f'There are {len(df.columns)} columns and {len(df.index)} rows in the dataframe.')"
   ]
  },
  {
   "attachments": {},
   "cell_type": "markdown",
   "metadata": {},
   "source": [
    "**2. Is there any missing data?**"
   ]
  },
  {
   "cell_type": "code",
   "execution_count": 4,
   "metadata": {},
   "outputs": [
    {
     "name": "stdout",
     "output_type": "stream",
     "text": [
      "Yes, of the 60872 total cells, there are 29435 missing entries.\n"
     ]
    }
   ],
   "source": [
    "print(f'Yes, of the {1087*56} total cells, there are {df.isna().sum().sum()} missing entries.')"
   ]
  },
  {
   "cell_type": "code",
   "execution_count": 5,
   "metadata": {},
   "outputs": [
    {
     "name": "stdout",
     "output_type": "stream",
     "text": [
      "The missing data is in the following columns!\n",
      "\n",
      "coaster_name                        0\n",
      "Length                            134\n",
      "Speed                             150\n",
      "Location                            0\n",
      "Status                            213\n",
      "Opening date                      250\n",
      "Type                                0\n",
      "Manufacturer                       59\n",
      "Height restriction                256\n",
      "Model                             343\n",
      "Height                            122\n",
      "Inversions                        155\n",
      "Lift/launch system                292\n",
      "Cost                              705\n",
      "Trains                            369\n",
      "Park section                      600\n",
      "Duration                          322\n",
      "Capacity                          512\n",
      "G-force                           725\n",
      "Designer                          509\n",
      "Max vertical angle                730\n",
      "Drop                              593\n",
      "Soft opening date                 991\n",
      "Fast Lane available              1018\n",
      "Replaced                          914\n",
      "Track layout                      752\n",
      "Fastrack available               1068\n",
      "Soft opening date.1               991\n",
      "Closing date                      851\n",
      "Opened                           1060\n",
      "Replaced by                       999\n",
      "Website                          1000\n",
      "Flash Pass Available             1037\n",
      "Must transfer from wheelchair     981\n",
      "Theme                            1043\n",
      "Single rider line available      1006\n",
      "Restraint Style                  1065\n",
      "Flash Pass available             1041\n",
      "Acceleration                     1027\n",
      "Restraints                       1063\n",
      "Name                             1052\n",
      "year_introduced                     0\n",
      "latitude                          275\n",
      "longitude                         275\n",
      "Type_Main                           0\n",
      "opening_date_clean                250\n",
      "speed1                            150\n",
      "speed2                            152\n",
      "speed1_value                      150\n",
      "speed1_unit                       150\n",
      "speed_mph                         150\n",
      "height_value                      122\n",
      "height_unit                       122\n",
      "height_ft                         916\n",
      "Inversions_clean                    0\n",
      "Gforce_clean                      725\n",
      "dtype: int64\n"
     ]
    }
   ],
   "source": [
    "print('The missing data is in the following columns!\\n')\n",
    "print(df.isna().sum())"
   ]
  },
  {
   "attachments": {},
   "cell_type": "markdown",
   "metadata": {},
   "source": [
    "**3. Display the summary statistics of the numeric columns using the describe method**"
   ]
  },
  {
   "cell_type": "code",
   "execution_count": 6,
   "metadata": {},
   "outputs": [
    {
     "data": {
      "text/html": [
       "<div>\n",
       "<style scoped>\n",
       "    .dataframe tbody tr th:only-of-type {\n",
       "        vertical-align: middle;\n",
       "    }\n",
       "\n",
       "    .dataframe tbody tr th {\n",
       "        vertical-align: top;\n",
       "    }\n",
       "\n",
       "    .dataframe thead th {\n",
       "        text-align: right;\n",
       "    }\n",
       "</style>\n",
       "<table border=\"1\" class=\"dataframe\">\n",
       "  <thead>\n",
       "    <tr style=\"text-align: right;\">\n",
       "      <th></th>\n",
       "      <th>count</th>\n",
       "      <th>mean</th>\n",
       "      <th>std</th>\n",
       "      <th>min</th>\n",
       "      <th>25%</th>\n",
       "      <th>50%</th>\n",
       "      <th>75%</th>\n",
       "      <th>max</th>\n",
       "    </tr>\n",
       "  </thead>\n",
       "  <tbody>\n",
       "    <tr>\n",
       "      <th>Inversions</th>\n",
       "      <td>932.0</td>\n",
       "      <td>1.547210</td>\n",
       "      <td>2.114073</td>\n",
       "      <td>0.0000</td>\n",
       "      <td>0.00000</td>\n",
       "      <td>0.0000</td>\n",
       "      <td>3.0000</td>\n",
       "      <td>14.0000</td>\n",
       "    </tr>\n",
       "    <tr>\n",
       "      <th>year_introduced</th>\n",
       "      <td>1087.0</td>\n",
       "      <td>1994.986201</td>\n",
       "      <td>23.475248</td>\n",
       "      <td>1884.0000</td>\n",
       "      <td>1989.00000</td>\n",
       "      <td>2000.0000</td>\n",
       "      <td>2010.0000</td>\n",
       "      <td>2022.0000</td>\n",
       "    </tr>\n",
       "    <tr>\n",
       "      <th>latitude</th>\n",
       "      <td>812.0</td>\n",
       "      <td>38.373484</td>\n",
       "      <td>15.516596</td>\n",
       "      <td>-48.2617</td>\n",
       "      <td>35.03105</td>\n",
       "      <td>40.2898</td>\n",
       "      <td>44.7996</td>\n",
       "      <td>63.2309</td>\n",
       "    </tr>\n",
       "    <tr>\n",
       "      <th>longitude</th>\n",
       "      <td>812.0</td>\n",
       "      <td>-41.595373</td>\n",
       "      <td>72.285227</td>\n",
       "      <td>-123.0357</td>\n",
       "      <td>-84.55220</td>\n",
       "      <td>-76.6536</td>\n",
       "      <td>2.7781</td>\n",
       "      <td>153.4265</td>\n",
       "    </tr>\n",
       "    <tr>\n",
       "      <th>speed1_value</th>\n",
       "      <td>937.0</td>\n",
       "      <td>53.850374</td>\n",
       "      <td>23.385518</td>\n",
       "      <td>5.0000</td>\n",
       "      <td>40.00000</td>\n",
       "      <td>50.0000</td>\n",
       "      <td>63.0000</td>\n",
       "      <td>240.0000</td>\n",
       "    </tr>\n",
       "    <tr>\n",
       "      <th>speed_mph</th>\n",
       "      <td>937.0</td>\n",
       "      <td>48.617289</td>\n",
       "      <td>16.678031</td>\n",
       "      <td>5.0000</td>\n",
       "      <td>37.30000</td>\n",
       "      <td>49.7000</td>\n",
       "      <td>58.0000</td>\n",
       "      <td>149.1000</td>\n",
       "    </tr>\n",
       "    <tr>\n",
       "      <th>height_value</th>\n",
       "      <td>965.0</td>\n",
       "      <td>89.575171</td>\n",
       "      <td>136.246444</td>\n",
       "      <td>4.0000</td>\n",
       "      <td>44.00000</td>\n",
       "      <td>79.0000</td>\n",
       "      <td>113.0000</td>\n",
       "      <td>3937.0000</td>\n",
       "    </tr>\n",
       "    <tr>\n",
       "      <th>height_ft</th>\n",
       "      <td>171.0</td>\n",
       "      <td>101.996491</td>\n",
       "      <td>67.329092</td>\n",
       "      <td>13.1000</td>\n",
       "      <td>51.80000</td>\n",
       "      <td>91.2000</td>\n",
       "      <td>131.2000</td>\n",
       "      <td>377.3000</td>\n",
       "    </tr>\n",
       "    <tr>\n",
       "      <th>Inversions_clean</th>\n",
       "      <td>1087.0</td>\n",
       "      <td>1.326587</td>\n",
       "      <td>2.030854</td>\n",
       "      <td>0.0000</td>\n",
       "      <td>0.00000</td>\n",
       "      <td>0.0000</td>\n",
       "      <td>2.0000</td>\n",
       "      <td>14.0000</td>\n",
       "    </tr>\n",
       "    <tr>\n",
       "      <th>Gforce_clean</th>\n",
       "      <td>362.0</td>\n",
       "      <td>3.824006</td>\n",
       "      <td>0.989998</td>\n",
       "      <td>0.8000</td>\n",
       "      <td>3.40000</td>\n",
       "      <td>4.0000</td>\n",
       "      <td>4.5000</td>\n",
       "      <td>12.0000</td>\n",
       "    </tr>\n",
       "  </tbody>\n",
       "</table>\n",
       "</div>"
      ],
      "text/plain": [
       "                   count         mean         std        min         25%   \n",
       "Inversions         932.0     1.547210    2.114073     0.0000     0.00000  \\\n",
       "year_introduced   1087.0  1994.986201   23.475248  1884.0000  1989.00000   \n",
       "latitude           812.0    38.373484   15.516596   -48.2617    35.03105   \n",
       "longitude          812.0   -41.595373   72.285227  -123.0357   -84.55220   \n",
       "speed1_value       937.0    53.850374   23.385518     5.0000    40.00000   \n",
       "speed_mph          937.0    48.617289   16.678031     5.0000    37.30000   \n",
       "height_value       965.0    89.575171  136.246444     4.0000    44.00000   \n",
       "height_ft          171.0   101.996491   67.329092    13.1000    51.80000   \n",
       "Inversions_clean  1087.0     1.326587    2.030854     0.0000     0.00000   \n",
       "Gforce_clean       362.0     3.824006    0.989998     0.8000     3.40000   \n",
       "\n",
       "                        50%        75%        max  \n",
       "Inversions           0.0000     3.0000    14.0000  \n",
       "year_introduced   2000.0000  2010.0000  2022.0000  \n",
       "latitude            40.2898    44.7996    63.2309  \n",
       "longitude          -76.6536     2.7781   153.4265  \n",
       "speed1_value        50.0000    63.0000   240.0000  \n",
       "speed_mph           49.7000    58.0000   149.1000  \n",
       "height_value        79.0000   113.0000  3937.0000  \n",
       "height_ft           91.2000   131.2000   377.3000  \n",
       "Inversions_clean     0.0000     2.0000    14.0000  \n",
       "Gforce_clean         4.0000     4.5000    12.0000  "
      ]
     },
     "execution_count": 6,
     "metadata": {},
     "output_type": "execute_result"
    }
   ],
   "source": [
    "df.describe().T"
   ]
  },
  {
   "attachments": {},
   "cell_type": "markdown",
   "metadata": {},
   "source": [
    "\n",
    "4.    Rename the following columns:\n",
    "       -  coaster_name  ➡️  Coaster_Name\n",
    "       - year_introduced ➡️ Year_Introduced\n",
    "       - opening_date_clean ➡️ Opening_Date\n",
    "       - speed_mph ➡️ Speed_mph\n",
    "       - height_ft ➡️ Height_ft\n",
    "       - Inversions_clean ➡️ Inversions\n",
    "       - Gforce_clean ➡️ Gforce\n"
   ]
  },
  {
   "cell_type": "code",
   "execution_count": 7,
   "metadata": {},
   "outputs": [
    {
     "data": {
      "text/plain": [
       "Index(['Coaster_Name', 'Length', 'Speed', 'Location', 'Status', 'Opening date',\n",
       "       'Type', 'Manufacturer', 'Height restriction', 'Model', 'Height',\n",
       "       'Inversions', 'Lift/launch system', 'Cost', 'Trains', 'Park section',\n",
       "       'Duration', 'Capacity', 'G-force', 'Designer', 'Max vertical angle',\n",
       "       'Drop', 'Soft opening date', 'Fast Lane available', 'Replaced',\n",
       "       'Track layout', 'Fastrack available', 'Soft opening date.1',\n",
       "       'Closing date', 'Opened', 'Replaced by', 'Website',\n",
       "       'Flash Pass Available', 'Must transfer from wheelchair', 'Theme',\n",
       "       'Single rider line available', 'Restraint Style',\n",
       "       'Flash Pass available', 'Acceleration', 'Restraints', 'Name',\n",
       "       'Year_Introduced', 'latitude', 'longitude', 'Type_Main', 'Opening_Date',\n",
       "       'speed1', 'speed2', 'speed1_value', 'speed1_unit', 'Speed_mph',\n",
       "       'height_value', 'height_unit', 'Height_ft', 'Inversions', 'Gforce'],\n",
       "      dtype='object')"
      ]
     },
     "execution_count": 7,
     "metadata": {},
     "output_type": "execute_result"
    }
   ],
   "source": [
    "df.rename(columns={\n",
    "    'coaster_name': 'Coaster_Name',\n",
    "    'year_introduced': 'Year_Introduced',\n",
    "    'opening_date_clean': 'Opening_Date',\n",
    "    'speed_mph': 'Speed_mph',\n",
    "    'height_ft': 'Height_ft',\n",
    "    'Inversions_clean': 'Inversions',\n",
    "    'Gforce_clean': 'Gforce'\n",
    "}, inplace=True)\n",
    "\n",
    "df.columns"
   ]
  },
  {
   "attachments": {},
   "cell_type": "markdown",
   "metadata": {},
   "source": [
    "**5.  Are there any duplicated rows?**"
   ]
  },
  {
   "cell_type": "code",
   "execution_count": 8,
   "metadata": {},
   "outputs": [
    {
     "name": "stdout",
     "output_type": "stream",
     "text": [
      "There are 1087 rows in the dataframe.\n"
     ]
    }
   ],
   "source": [
    "print(f'There are {df.duplicated().count()} rows in the dataframe.')\n"
   ]
  },
  {
   "attachments": {},
   "cell_type": "markdown",
   "metadata": {},
   "source": [
    "**6. What are the top 3 years with the most roller coasters introduced?**"
   ]
  },
  {
   "cell_type": "code",
   "execution_count": 9,
   "metadata": {},
   "outputs": [
    {
     "data": {
      "text/html": [
       "<div>\n",
       "<style scoped>\n",
       "    .dataframe tbody tr th:only-of-type {\n",
       "        vertical-align: middle;\n",
       "    }\n",
       "\n",
       "    .dataframe tbody tr th {\n",
       "        vertical-align: top;\n",
       "    }\n",
       "\n",
       "    .dataframe thead th {\n",
       "        text-align: right;\n",
       "    }\n",
       "</style>\n",
       "<table border=\"1\" class=\"dataframe\">\n",
       "  <thead>\n",
       "    <tr style=\"text-align: right;\">\n",
       "      <th></th>\n",
       "      <th>Coaster_Name</th>\n",
       "      <th>Length</th>\n",
       "      <th>Speed</th>\n",
       "      <th>Location</th>\n",
       "      <th>Status</th>\n",
       "      <th>Opening date</th>\n",
       "      <th>Type</th>\n",
       "      <th>Manufacturer</th>\n",
       "      <th>Height restriction</th>\n",
       "      <th>Model</th>\n",
       "      <th>...</th>\n",
       "      <th>speed1</th>\n",
       "      <th>speed2</th>\n",
       "      <th>speed1_value</th>\n",
       "      <th>speed1_unit</th>\n",
       "      <th>Speed_mph</th>\n",
       "      <th>height_value</th>\n",
       "      <th>height_unit</th>\n",
       "      <th>Height_ft</th>\n",
       "      <th>Inversions</th>\n",
       "      <th>Gforce</th>\n",
       "    </tr>\n",
       "    <tr>\n",
       "      <th>Year_Introduced</th>\n",
       "      <th></th>\n",
       "      <th></th>\n",
       "      <th></th>\n",
       "      <th></th>\n",
       "      <th></th>\n",
       "      <th></th>\n",
       "      <th></th>\n",
       "      <th></th>\n",
       "      <th></th>\n",
       "      <th></th>\n",
       "      <th></th>\n",
       "      <th></th>\n",
       "      <th></th>\n",
       "      <th></th>\n",
       "      <th></th>\n",
       "      <th></th>\n",
       "      <th></th>\n",
       "      <th></th>\n",
       "      <th></th>\n",
       "      <th></th>\n",
       "      <th></th>\n",
       "    </tr>\n",
       "  </thead>\n",
       "  <tbody>\n",
       "    <tr>\n",
       "      <th>1999</th>\n",
       "      <td>49</td>\n",
       "      <td>44</td>\n",
       "      <td>44</td>\n",
       "      <td>49</td>\n",
       "      <td>39</td>\n",
       "      <td>35</td>\n",
       "      <td>49</td>\n",
       "      <td>48</td>\n",
       "      <td>39</td>\n",
       "      <td>38</td>\n",
       "      <td>...</td>\n",
       "      <td>44</td>\n",
       "      <td>44</td>\n",
       "      <td>44</td>\n",
       "      <td>44</td>\n",
       "      <td>44</td>\n",
       "      <td>45</td>\n",
       "      <td>45</td>\n",
       "      <td>1</td>\n",
       "      <td>49</td>\n",
       "      <td>18</td>\n",
       "    </tr>\n",
       "    <tr>\n",
       "      <th>2000</th>\n",
       "      <td>47</td>\n",
       "      <td>45</td>\n",
       "      <td>45</td>\n",
       "      <td>47</td>\n",
       "      <td>33</td>\n",
       "      <td>34</td>\n",
       "      <td>47</td>\n",
       "      <td>47</td>\n",
       "      <td>40</td>\n",
       "      <td>34</td>\n",
       "      <td>...</td>\n",
       "      <td>45</td>\n",
       "      <td>44</td>\n",
       "      <td>45</td>\n",
       "      <td>45</td>\n",
       "      <td>45</td>\n",
       "      <td>44</td>\n",
       "      <td>44</td>\n",
       "      <td>6</td>\n",
       "      <td>47</td>\n",
       "      <td>18</td>\n",
       "    </tr>\n",
       "    <tr>\n",
       "      <th>1998</th>\n",
       "      <td>32</td>\n",
       "      <td>28</td>\n",
       "      <td>29</td>\n",
       "      <td>32</td>\n",
       "      <td>25</td>\n",
       "      <td>24</td>\n",
       "      <td>32</td>\n",
       "      <td>31</td>\n",
       "      <td>28</td>\n",
       "      <td>22</td>\n",
       "      <td>...</td>\n",
       "      <td>29</td>\n",
       "      <td>29</td>\n",
       "      <td>29</td>\n",
       "      <td>29</td>\n",
       "      <td>29</td>\n",
       "      <td>30</td>\n",
       "      <td>30</td>\n",
       "      <td>2</td>\n",
       "      <td>32</td>\n",
       "      <td>14</td>\n",
       "    </tr>\n",
       "  </tbody>\n",
       "</table>\n",
       "<p>3 rows × 55 columns</p>\n",
       "</div>"
      ],
      "text/plain": [
       "                 Coaster_Name  Length  Speed  Location  Status  Opening date   \n",
       "Year_Introduced                                                                \n",
       "1999                       49      44     44        49      39            35  \\\n",
       "2000                       47      45     45        47      33            34   \n",
       "1998                       32      28     29        32      25            24   \n",
       "\n",
       "                 Type  Manufacturer  Height restriction  Model  ...  speed1   \n",
       "Year_Introduced                                                 ...           \n",
       "1999               49            48                  39     38  ...      44  \\\n",
       "2000               47            47                  40     34  ...      45   \n",
       "1998               32            31                  28     22  ...      29   \n",
       "\n",
       "                 speed2  speed1_value  speed1_unit  Speed_mph  height_value   \n",
       "Year_Introduced                                                               \n",
       "1999                 44            44           44         44            45  \\\n",
       "2000                 44            45           45         45            44   \n",
       "1998                 29            29           29         29            30   \n",
       "\n",
       "                 height_unit  Height_ft  Inversions  Gforce  \n",
       "Year_Introduced                                              \n",
       "1999                      45          1          49      18  \n",
       "2000                      44          6          47      18  \n",
       "1998                      30          2          32      14  \n",
       "\n",
       "[3 rows x 55 columns]"
      ]
     },
     "execution_count": 9,
     "metadata": {},
     "output_type": "execute_result"
    }
   ],
   "source": [
    "df.groupby(['Year_Introduced']).count().sort_values(by=['Coaster_Name'], ascending=False).head(3)"
   ]
  },
  {
   "attachments": {},
   "cell_type": "markdown",
   "metadata": {},
   "source": [
    "Top three years are 1999, 2000, and 1998."
   ]
  },
  {
   "attachments": {},
   "cell_type": "markdown",
   "metadata": {},
   "source": [
    "**7. What is the average speed? Also display a plot to show it's distribution.**"
   ]
  },
  {
   "cell_type": "code",
   "execution_count": 33,
   "metadata": {},
   "outputs": [
    {
     "name": "stdout",
     "output_type": "stream",
     "text": [
      "The average speed is 48.62 mph.\n"
     ]
    },
    {
     "data": {
      "image/png": "[encoded data removed]",
      "text/plain": [
       "<Figure size 640x480 with 1 Axes>"
      ]
     },
     "metadata": {},
     "output_type": "display_data"
    }
   ],
   "source": [
    "print(f\"The average speed is {df['Speed_mph'].mean():.2f} mph.\")\n",
    "df['Speed_mph'].plot.hist(bins=20, alpha=0.75)\n",
    "plt.show()"
   ]
  },
  {
   "attachments": {},
   "cell_type": "markdown",
   "metadata": {},
   "source": [
    "**8. Explore the feature relationships. Are there any positively or negatively correlated relationships?**"
   ]
  },
  {
   "cell_type": "code",
   "execution_count": 30,
   "metadata": {},
   "outputs": [
    {
     "data": {
      "text/plain": [
       "<Axes: >"
      ]
     },
     "execution_count": 30,
     "metadata": {},
     "output_type": "execute_result"
    },
    {
     "data": {
      "image/png": "[encoded data removed]",
      "text/plain": [
       "<Figure size 1100x900 with 2 Axes>"
      ]
     },
     "metadata": {},
     "output_type": "display_data"
    }
   ],
   "source": [
    "corr = df.corr(numeric_only=True)\n",
    "\n",
    "# Generate a mask for the upper triangle\n",
    "mask = np.triu(np.ones_like(corr, dtype=bool))\n",
    "\n",
    "# Set up the matplotlib figure\n",
    "f, ax = plt.subplots(figsize=(11, 9))\n",
    "\n",
    "# Generate a custom diverging colormap\n",
    "cmap = sns.diverging_palette(230, 20, as_cmap=True)\n",
    "\n",
    "# Draw the heatmap with the mask and correct aspect ratio\n",
    "sns.heatmap(corr, mask=mask, cmap=cmap, vmax=.3, center=0,\n",
    "            square=True, linewidths=.5, cbar_kws={\"shrink\": .5}, annot=True)"
   ]
  },
  {
   "attachments": {},
   "cell_type": "markdown",
   "metadata": {},
   "source": [
    "**9. Create your own question and answer it.**"
   ]
  },
  {
   "cell_type": "code",
   "execution_count": 34,
   "metadata": {},
   "outputs": [],
   "source": [
    "# No"
   ]
  }
 ],
 "metadata": {
  "kernelspec": {
   "display_name": "Python 3",
   "language": "python",
   "name": "python3"
  },
  "language_info": {
   "codemirror_mode": {
    "name": "ipython",
    "version": 3
   },
   "file_extension": ".py",
   "mimetype": "text/x-python",
   "name": "python",
   "nbconvert_exporter": "python",
   "pygments_lexer": "ipython3",
   "version": "3.11.3"
  },
  "orig_nbformat": 4
 },
 "nbformat": 4,
 "nbformat_minor": 2
}
