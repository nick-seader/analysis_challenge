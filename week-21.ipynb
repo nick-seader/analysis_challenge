{
 "cells": [
  {
   "attachments": {},
   "cell_type": "markdown",
   "metadata": {},
   "source": [
    "# Week 21 Data Analysis Challenge\n",
    "\n",
    "Download the dataset here: https://buff.ly/3MtO0FC \n",
    "\n",
    "Challenge Questions:\n",
    "\n",
    "1.    Which role has the highest salary employment wise?\n",
    "2.    Which employment types do employers prefer to hire?\n",
    "3.    Which role are entry leveled generally hired for? \n",
    "4.    Which countries pay the highest for which roles? \n",
    "5.    What insights can you find regarding employee demographics? \n",
    "6.    Which experience level has the highest hiring? \n",
    "7.    Does company size affect the rate of hiring and pay scale? \n",
    "8.    What is the year over year (YoY) salary growth at different levels? \n",
    "9.    Create a dashboard to summarize your insights"
   ]
  },
  {
   "cell_type": "code",
   "execution_count": null,
   "metadata": {},
   "outputs": [],
   "source": []
  }
 ],
 "metadata": {
  "language_info": {
   "name": "python"
  },
  "orig_nbformat": 4
 },
 "nbformat": 4,
 "nbformat_minor": 2
}
